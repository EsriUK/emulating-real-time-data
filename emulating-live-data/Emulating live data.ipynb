{
 "cells": [
  {
   "cell_type": "markdown",
   "metadata": {},
   "source": [
    "# Emulating live data\n",
    "\n",
    "For more information, please visit this blog post on GeoNet -> "
   ]
  },
  {
   "cell_type": "code",
   "execution_count": 4,
   "metadata": {
    "collapsed": true
   },
   "outputs": [],
   "source": [
    "#Please run each code cell in order! (CTRL + ENTER)\n",
    "\n",
    "from arcgis.gis import GIS\n",
    "from arcgis import features\n",
    "from getpass import getpass #to accept passwords in an interactive fashion\n",
    "from arcgis.features import FeatureLayer\n",
    "import csv\n",
    "import time\n",
    "import getpass"
   ]
  },
  {
   "cell_type": "code",
   "execution_count": 5,
   "metadata": {
    "collapsed": true
   },
   "outputs": [],
   "source": [
    "#1. Insert your empty editable point feature layer with a \"name\" field. \n",
    "lyr_url = 'https://services.arcgis.com/Qo2anKIAMzIEkIJB/arcgis/rest/services/emulating_live_data/FeatureServer/0'\n",
    "# You can use this as a test \n",
    "\n",
    "#2. Define the location of your .csv\n",
    "csvLocation = 'data/SeanSamRichard.csv'\n",
    "\n",
    "#3. Define how many people/items are updating in the csv. \n",
    "# More information regarding formatting the .csv scan be found on the cell below.\n",
    "itemsPerIteration = 3"
   ]
  },
  {
   "cell_type": "code",
   "execution_count": null,
   "metadata": {
    "collapsed": true
   },
   "outputs": [],
   "source": [
    "#4. If your feature service is private, run this cell for an ArcGIS Online login prompt.\n",
    "username = input(\"Enter your ArcGIS username \")   \n",
    "password = getpass.getpass(\"Enter password: \")\n",
    "\n",
    "gis = GIS(\"https://www.arcgis.com\", username, password)\n",
    "# You can also update the url above to your own ArcGIS Enterprise.\n",
    "\n",
    "# If your feature service is public, ignore & you don't need to run this."
   ]
  },
  {
   "cell_type": "code",
   "execution_count": null,
   "metadata": {},
   "outputs": [],
   "source": [
    "#5. No editing needed - Just run this code! (Press CTRL + ENTER)\n",
    "\n",
    "try:\n",
    "  lyr_url\n",
    "except NameError:\n",
    "    print(\"ERROR -> PLEASE RUN YOUR VARIABLE CODE BLOCK FIRST (CTRL + ENTER)\")\n",
    "    #Tests one of the variables above to see if they've been initiated. \n",
    "\n",
    "layer = FeatureLayer(lyr_url)\n",
    "\n",
    "def addFeature(name, long, lat):  \n",
    "    point = {\"attributes\": \n",
    "        {\"name\": name},\n",
    "        \"geometry\":\n",
    "        {\"x\": long, \"y\": lat}}\n",
    "    add_result = layer.edit_features(adds = [point])\n",
    "    # This creates a point or points, and then adds them to the feature layer provided.\n",
    "    \n",
    "with open(csvLocation, newline='') as csvfile:   \n",
    "    reader = csv.DictReader(csvfile)\n",
    "    data = list(reader)\n",
    "    row_count = len(data)\n",
    "    dataCountForEachPerson = ((row_count)/itemsPerIteration)\n",
    "    # Reads the provided CSV. It looks at how many lines are in your CSV and divides them by 'itemsPerIteration'.\n",
    "    \n",
    "    def updateFeatureLayer():\n",
    "        # This loops through the csv and updates the features every 6 seconds.\n",
    "        for x in range(0, int(dataCountForEachPerson)):\n",
    "            layer.delete_features(where=\"1=1\")\n",
    "            for y in range(0, itemsPerIteration):\n",
    "                name = data[x*itemsPerIteration+y]['name']\n",
    "                long = int(data[x*itemsPerIteration+y]['longitude'])\n",
    "                lat = int(data[x*itemsPerIteration+y]['latitude'])\n",
    "                addFeature(name, long, lat)\n",
    "                print( \"name:\", name, \"longitude:\", long, \"latitude:\", lat)\n",
    "                if x*itemsPerIteration+y >= (row_count-1):\n",
    "                    time.sleep(6) \n",
    "                    print(\"restarting in 6 seconds...\")\n",
    "                    updateFeatureLayer()\n",
    "            print(\"Wait 6 seconds...\")\n",
    "            time.sleep(6) \n",
    "        \n",
    "updateFeatureLayer()"
   ]
  }
 ],
 "metadata": {
  "kernelspec": {
   "display_name": "Python 3",
   "language": "python",
   "name": "python3"
  },
  "language_info": {
   "codemirror_mode": {
    "name": "ipython",
    "version": 3
   },
   "file_extension": ".py",
   "mimetype": "text/x-python",
   "name": "python",
   "nbconvert_exporter": "python",
   "pygments_lexer": "ipython3",
   "version": "3.6.2"
  }
 },
 "nbformat": 4,
 "nbformat_minor": 2
}
